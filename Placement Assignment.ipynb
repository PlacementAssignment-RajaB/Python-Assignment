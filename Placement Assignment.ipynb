{
 "cells": [
  {
   "cell_type": "markdown",
   "id": "558b39e9",
   "metadata": {},
   "source": [
    "# 1. \n",
    "Write a program that takes a string as input, and counts the frequency of each word in the string, there might\n",
    "be repeated characters in the string. Your task is to find the highest frequency and returns the length of the\n",
    "highest-frequency word.\n",
    "\n",
    "Note - You have to write at least 2 additional test cases in which your program will run successfully and provide\n",
    "an explanation for the same.\n",
    "\n",
    "Example input - string = “write write write all the number from from from 1 to 100”\n",
    "\n",
    "Example output - 5\n",
    "\n",
    "Explanation - From the given string we can note that the most frequent words are “write” and “from” and\n",
    "the maximum value of both the values is “write” and its corresponding length is 5\n",
    "\n"
   ]
  },
  {
   "cell_type": "code",
   "execution_count": 2,
   "id": "304b36dd",
   "metadata": {},
   "outputs": [],
   "source": [
    "def longest_repeating_string(string):\n",
    "    str_lst = string.split(' ')\n",
    "    dct = {}\n",
    "    for word in str_lst:\n",
    "        if word not in dct:\n",
    "            dct[word] = 1\n",
    "        else:\n",
    "            dct[word]+=1\n",
    "        max_occ = max(dct.values())\n",
    "    lon_rep_str = \"\"\n",
    "    for i in dct:\n",
    "        if dct[i] == max_occ:\n",
    "            if len(i) > len(lon_rep_str):\n",
    "                lon_rep_str = i\n",
    "    return len(lon_rep_str)\n",
    "    \n",
    "            \n",
    "    "
   ]
  },
  {
   "cell_type": "code",
   "execution_count": 3,
   "id": "357f7c81",
   "metadata": {},
   "outputs": [
    {
     "name": "stdout",
     "output_type": "stream",
     "text": [
      "actual_output: 5   expected_output: 5\n",
      "actual_output: 3   expected_output: 3\n",
      "actual_output: 6   expected_output: 6\n"
     ]
    }
   ],
   "source": [
    "test_cases = [\n",
    "  (\"write write write all the number from from from 1 to 100\", 5),\n",
    "  (\"the quick brown fox jumps over the lazy dog\", 3),\n",
    "  (\"I love Python\", 6)\n",
    "]\n",
    "i = 1\n",
    "for test_case in test_cases:\n",
    "    string, expected_output = test_case\n",
    "    actual_output = longest_repeating_string(string)\n",
    "    i+=1\n",
    "    print('actual_output:',actual_output,'  expected_output:',expected_output)"
   ]
  },
  {
   "cell_type": "markdown",
   "id": "ee78bc2f",
   "metadata": {},
   "source": [
    "Question 2: -\n",
    "\n",
    "Consider a string to be valid if all characters of the string appear the same number of times. It is also valid if\n",
    "he can remove just one character at the index in the string, and the remaining characters will occur the same\n",
    "number of times. Given a string, determine if it is valid. If so, return YES , otherwise return NO .\n",
    "\n",
    "Note - You have to write at least 2 additional test cases in which your program will run successfully and provide\n",
    "an explanation for the same.\n",
    "\n",
    "Example input 1 - s = “abc”. This is a valid string because frequencies are { “a”: 1, “b”: 1, “c”: 1 }\n",
    "\n",
    "Example output 1- YES\n",
    "\n",
    "Example input 2 - s “abcc”. This string is not valid as we can remove only 1 occurrence of “c”. That leaves\n",
    "character frequencies of { “a”: 1, “b”: 1 , “c”: 2 }\n",
    "\n",
    "Example output 2 - NO"
   ]
  },
  {
   "cell_type": "code",
   "execution_count": 4,
   "id": "707f159c",
   "metadata": {},
   "outputs": [
    {
     "name": "stdout",
     "output_type": "stream",
     "text": [
      "actual_output: YES   expected_output: YES\n",
      "actual_output: NO   expected_output: NO\n",
      "actual_output: YES   expected_output: YES\n"
     ]
    }
   ],
   "source": [
    "def check_valid_string(string):\n",
    "    dct={}\n",
    "    for i in string:\n",
    "        if i in dct:\n",
    "            dct[i]+=1\n",
    "        else:\n",
    "            dct[i]=1\n",
    "    \n",
    "    \n",
    "    for value in dct.values():\n",
    "        if value != dct[i]:\n",
    "            return \"NO\"\n",
    "    \n",
    "    return \"YES\"\n",
    "\n",
    "test_cases = [\n",
    "  (\"abc\", \"YES\"),\n",
    "  (\"abcc\", \"NO\"),\n",
    "  (\"Python\", \"YES\")\n",
    "]\n",
    "i = 1\n",
    "for test_case in test_cases:\n",
    "    string, expected_output = test_case\n",
    "    actual_output = check_valid_string(string)\n",
    "    i+=1\n",
    "    print('actual_output:',actual_output,'  expected_output:',expected_output)"
   ]
  },
  {
   "cell_type": "markdown",
   "id": "4f7a0538",
   "metadata": {},
   "source": [
    "Question 3: -\n",
    "Write a program, which would download the data from the provided link, and then read the data and convert\n",
    "\n",
    "that into properly structured data and return it in Excel format.\n",
    "\n",
    "Note - Write comments wherever necessary explaining the code written.\n",
    "\n",
    "Link - https://raw.githubusercontent.com/Biuni/PokemonGO-Pokedex/master/pokedex.json\n",
    "\n",
    "Data Attributes - id: Identification Number - int num: Number of the\n",
    "\n",
    "● Pokémon in the official Pokédex - int name: Pokémon name -\n",
    "\n",
    "● string img: URL to an image of this Pokémon - string type:\n",
    "\n",
    "● Pokémon type -string height: Pokémon height - float\n",
    "\n",
    "● weight: Pokémon weight - float candy: type of candy used to evolve Pokémon or\n",
    "given\n",
    "\n",
    "● when transferred - string candy_count: the amount of candies required to evolve\n",
    "- int\n",
    "\n",
    "● egg: Number of kilometers to travel to hatch the egg - float spawn_chance:\n",
    "\n",
    "● Percentage of spawn chance (NEW) - float avg_spawns: Number of this\n",
    "pokemon on 10.000 spawns (NEW) - int\n",
    "\n",
    "● spawn_time: Spawns most active at the time on this field. Spawn times are the same for all\n",
    "time zones and are expressed in local time. (NEW) - “minutes: seconds” multipliers:\n",
    "Multiplier of Combat Power (CP) for calculating the CP after evolution See below - list of int\n",
    "weakness: Types of\n",
    "\n",
    "● Pokémon this Pokémon is weak to - list of strings next_evolution: Number and Name of\n",
    "successive evolutions of Pokémon - list of dict prev_evolution: Number and Name of previous\n",
    "evolutions of Pokémon - - list of dict"
   ]
  },
  {
   "cell_type": "code",
   "execution_count": 5,
   "id": "7d3875ed",
   "metadata": {},
   "outputs": [],
   "source": [
    "import pandas as pd\n",
    "import json\n",
    "import requests"
   ]
  },
  {
   "cell_type": "code",
   "execution_count": 6,
   "id": "f777b58a",
   "metadata": {},
   "outputs": [],
   "source": [
    "\n",
    "url = 'https://raw.githubusercontent.com/Biuni/PokemonGO-Pokedex/master/pokedex.json'\n",
    "\n",
    "# Fetch JSON data from the URL\n",
    "response = requests.get(url)\n",
    "\n",
    "# Convert JSON string to JSON object\n",
    "json_obj = json.loads(response.text)\n",
    "\n",
    "# Convert JSON object to pandas DataFrame\n",
    "pokemon_df = pd.json_normalize(json_obj['pokemon'])\n",
    "\n",
    "# Convert the dataframe and save it as excel\n",
    "pokemon_df.to_excel('pokemon_data.xlsx')"
   ]
  },
  {
   "cell_type": "markdown",
   "id": "d643cae0",
   "metadata": {},
   "source": [
    "Question 4 -\n",
    "\n",
    "Write a program to download the data from the link given below and then read the data and convert the into\n",
    "the proper structure and return it as a CSV file.\n",
    "\n",
    "Link - https://data.nasa.gov/resource/y77d-th95.json\n",
    "\n",
    "Note - Write code comments wherever needed for code understanding.\n",
    "\n",
    "Sample Data -\n",
    "\n",
    "Excepted Output Data Attributes\n",
    "\n",
    "● Name of Earth Meteorite - string id - ID of Earth\n",
    "\n",
    "● Meteorite - int nametype - string recclass - string\n",
    "\n",
    "● mass - Mass of Earth Meteorite - float year - Year at which Earth\n",
    "\n",
    "● Meteorite was hit - datetime format reclat - float recclong - float\n",
    "\n",
    "● point coordinates - list of int"
   ]
  },
  {
   "cell_type": "code",
   "execution_count": 7,
   "id": "df305b82",
   "metadata": {},
   "outputs": [],
   "source": [
    "import numpy as np\n",
    "url = 'https://data.nasa.gov/resource/y77d-th95.json'\n",
    "\n",
    "# Fetch JSON data from the URL\n",
    "response = requests.get(url)\n",
    "\n",
    "# Convert JSON string to JSON object\n",
    "json_obj = json.loads(response.text)\n",
    "\n",
    "# Convert JSON object to pandas DataFrame\n",
    "data_nasa = pd.DataFrame(json_obj)\n",
    "\n",
    "\n",
    "##While iterating polar cordinaetes became nan that raises an error\n",
    "data_nasa['geolocation'] = data_nasa['geolocation'].ffill()\n",
    "for i in range(len(data_nasa)):\n",
    "    data_nasa['geolocation'].loc[i] = data_nasa['geolocation'].loc[i]['coordinates']\n",
    "    \n",
    "    \n",
    "# Convert the dataframe and save it as excel\n",
    "data_nasa.to_excel('data_nasa.xlsx')"
   ]
  },
  {
   "cell_type": "code",
   "execution_count": null,
   "id": "4ab76b1e",
   "metadata": {},
   "outputs": [],
   "source": []
  },
  {
   "cell_type": "code",
   "execution_count": null,
   "id": "1d4ff927",
   "metadata": {},
   "outputs": [],
   "source": []
  },
  {
   "cell_type": "markdown",
   "id": "9bdff2fc",
   "metadata": {},
   "source": [
    "Question 5 -\n",
    "\n",
    "Write a program to download the data from the given API link and then extract the following data with\n",
    "proper formatting\n",
    "\n",
    "Link - http://api.tvmaze.com/singlesearch/shows?q=westworld&embed=episodes\n",
    "\n",
    "Note - Write proper code comments wherever needed for the code understanding\n",
    "\n",
    "Excepted Output Data Attributes -\n",
    "\n",
    "● id - int url - string\n",
    "\n",
    "● name - string season\n",
    "\n",
    "● - int number - int\n",
    "\n",
    "● type - string airdate -\n",
    "\n",
    "● date format airtime -\n",
    "\n",
    "● 12-hour time format\n",
    "\n",
    "● runtime - float\n",
    "\n",
    "● average rating - float\n",
    "\n",
    "● summary - string\n",
    "\n",
    "● without html tags\n",
    "\n",
    "● medium image link - string\n",
    "\n",
    "● Original image link - string"
   ]
  },
  {
   "cell_type": "code",
   "execution_count": 8,
   "id": "a7f03dce",
   "metadata": {},
   "outputs": [],
   "source": [
    "# Function to transform the dataset as per the requirements\n",
    "def transform(df):\n",
    "    df['medium_image_link'] = \"\"\n",
    "    df['original_image_link'] = \"\"\n",
    "    for i in range(len(df)):\n",
    "        df.airtime.loc[i] = datetime.strptime(df['airtime'].loc[i], '%H:%M').strftime('%I:%M %p')\n",
    "        df.rating.loc[i] = df.rating.loc[i]['average']\n",
    "        df.summary.loc[i] = BeautifulSoup(df['summary'].loc[i], 'html.parser').get_text()\n",
    "        df['medium_image_link'].loc[i] += df.image.loc[i]['medium']\n",
    "        df['original_image_link'].loc[i] += df.image.loc[i]['original']\n",
    "    df = df.drop(['image','_links'],axis=1)\n",
    "    return df"
   ]
  },
  {
   "cell_type": "code",
   "execution_count": 9,
   "id": "690b0082",
   "metadata": {},
   "outputs": [
    {
     "name": "stderr",
     "output_type": "stream",
     "text": [
      "C:\\Users\\Raja.Balasubramani\\AppData\\Local\\Temp\\ipykernel_14092\\282122233.py:6: SettingWithCopyWarning: \n",
      "A value is trying to be set on a copy of a slice from a DataFrame\n",
      "\n",
      "See the caveats in the documentation: https://pandas.pydata.org/pandas-docs/stable/user_guide/indexing.html#returning-a-view-versus-a-copy\n",
      "  df.airtime.loc[i] = datetime.strptime(df['airtime'].loc[i], '%H:%M').strftime('%I:%M %p')\n",
      "C:\\Users\\Raja.Balasubramani\\AppData\\Local\\Temp\\ipykernel_14092\\282122233.py:7: SettingWithCopyWarning: \n",
      "A value is trying to be set on a copy of a slice from a DataFrame\n",
      "\n",
      "See the caveats in the documentation: https://pandas.pydata.org/pandas-docs/stable/user_guide/indexing.html#returning-a-view-versus-a-copy\n",
      "  df.rating.loc[i] = df.rating.loc[i]['average']\n",
      "C:\\Users\\Raja.Balasubramani\\AppData\\Local\\Temp\\ipykernel_14092\\282122233.py:8: SettingWithCopyWarning: \n",
      "A value is trying to be set on a copy of a slice from a DataFrame\n",
      "\n",
      "See the caveats in the documentation: https://pandas.pydata.org/pandas-docs/stable/user_guide/indexing.html#returning-a-view-versus-a-copy\n",
      "  df.summary.loc[i] = BeautifulSoup(df['summary'].loc[i], 'html.parser').get_text()\n",
      "C:\\Users\\Raja.Balasubramani\\AppData\\Local\\Temp\\ipykernel_14092\\282122233.py:9: SettingWithCopyWarning: \n",
      "A value is trying to be set on a copy of a slice from a DataFrame\n",
      "\n",
      "See the caveats in the documentation: https://pandas.pydata.org/pandas-docs/stable/user_guide/indexing.html#returning-a-view-versus-a-copy\n",
      "  df['medium_image_link'].loc[i] += df.image.loc[i]['medium']\n",
      "C:\\Users\\Raja.Balasubramani\\AppData\\Local\\Temp\\ipykernel_14092\\282122233.py:10: SettingWithCopyWarning: \n",
      "A value is trying to be set on a copy of a slice from a DataFrame\n",
      "\n",
      "See the caveats in the documentation: https://pandas.pydata.org/pandas-docs/stable/user_guide/indexing.html#returning-a-view-versus-a-copy\n",
      "  df['original_image_link'].loc[i] += df.image.loc[i]['original']\n"
     ]
    }
   ],
   "source": [
    "from datetime import datetime\n",
    "import _strptime\n",
    "from bs4 import BeautifulSoup\n",
    "url = \"https://api.tvmaze.com/singlesearch/shows?q=westworld&embed=episodes\"\n",
    "response = requests.get(url)\n",
    "\n",
    "# Fetch JSON data from the URL\n",
    "response = requests.get(url)\n",
    "\n",
    "# Convert JSON string to JSON object\n",
    "json_obj = json.loads(response.text)\n",
    "\n",
    "# Extracting data\n",
    "\n",
    "df = json_obj['_embedded']['episodes']\n",
    "\n",
    "# Converting to pandas dataframe\n",
    "df = pd.DataFrame(df)\n",
    "\n",
    "# Transforming according to Expected output\n",
    "df = transform(df)\n",
    "\n",
    "#Save it for future use\n",
    "df.to_excel('episodes.xlsx',index=False)\n",
    "\n",
    "\n"
   ]
  },
  {
   "cell_type": "markdown",
   "id": "2c91bd47",
   "metadata": {},
   "source": [
    "Question 6 -\n",
    "Using the data from Question 3, write code to analyze the data and answer the following questions \n",
    "\n",
    "Note \n",
    "\n",
    "1.Draw plots to demonstrate the analysis for the following questions for better visualizations.\n",
    "\n",
    "2. Write code comments wherever required for code understanding\n",
    "\n",
    "Insights to be drawn -\n",
    "\n",
    "● Get all Pokemons whose spawn rate is less than 5%\n",
    "\n",
    "● Get all Pokemons that have less than 4 weaknesses\n",
    "\n",
    "● Get all Pokemons that have no multipliers at all\n",
    "\n",
    "● Get all Pokemons that do not have more than 2 evolutions\n",
    "\n",
    "● Get all Pokemons whose spawn time is less than 300 seconds.\n",
    "Note - spawn time format is \"05:32”, so assume “minute: second” format and perform the analysis.\n",
    "\n",
    "● Get all Pokemon who have more than two types of capabilities"
   ]
  },
  {
   "cell_type": "code",
   "execution_count": 10,
   "id": "f22cae5d",
   "metadata": {},
   "outputs": [
    {
     "name": "stderr",
     "output_type": "stream",
     "text": [
      "C:\\Users\\Raja.Balasubramani\\AppData\\Local\\Temp\\ipykernel_14092\\983700558.py:13: SettingWithCopyWarning: \n",
      "A value is trying to be set on a copy of a slice from a DataFrame\n",
      "\n",
      "See the caveats in the documentation: https://pandas.pydata.org/pandas-docs/stable/user_guide/indexing.html#returning-a-view-versus-a-copy\n",
      "  pokemon_df.spawn_time[i] = pokemon_df.spawn_time[i-5]\n"
     ]
    },
    {
     "data": {
      "image/png": "[encoded data removed]",
      "text/plain": [
       "<Figure size 1500x1000 with 2 Axes>"
      ]
     },
     "metadata": {},
     "output_type": "display_data"
    }
   ],
   "source": [
    "import pandas as pd\n",
    "import matplotlib.pyplot as plt\n",
    "\n",
    "# Read the Excel file created in the previous question\n",
    "pokemon_df = pd.read_excel('pokemon_data.xlsx')\n",
    "\n",
    "# Convert 'spawn_time' column to string\n",
    "pokemon_df['spawn_time'] = pokemon_df['spawn_time'].astype(str)\n",
    "\n",
    "#In this dataset the nan values are in the form of string so fillna methods are not working so manually nan isfilled using below code\n",
    "for i in range(len(pokemon_df)):\n",
    "    if pokemon_df.spawn_time[i] == 'nan':\n",
    "        pokemon_df.spawn_time[i] = pokemon_df.spawn_time[i-5]\n",
    "    pokemon_df\n",
    "\n",
    "\n",
    "# Get all Pokemons whose spawn rate is less than 5%\n",
    "low_spawn_rate = pokemon_df[pokemon_df['spawn_chance'] < 0.05]\n",
    "\n",
    "# Get all Pokemons that have less than 4 weaknesses\n",
    "pokemon_df['num_weaknesses'] = pokemon_df['weaknesses'].apply(lambda x: len(x))\n",
    "less_weak_pokemon = pokemon_df[pokemon_df['num_weaknesses'] < 4]\n",
    "\n",
    "# Get all Pokemons that have no multipliers at all\n",
    "no_multipliers = pokemon_df[pokemon_df['next_evolution'].isnull()]\n",
    "\n",
    "# Get all Pokemons that do not have more than 2 evolutions\n",
    "pokemon_df['num_evolutions'] = pokemon_df['next_evolution'].apply(lambda x: 0 if pd.isnull(x) else len(x))\n",
    "less_evolutions = pokemon_df[pokemon_df['num_evolutions'] <= 2]\n",
    "\n",
    "# all Pokemons whose spawn time is less than 300 seconds\n",
    "pokemon_df['spawn_seconds'] = pokemon_df['spawn_time'].apply(lambda x: int(x.split(':')[0]) * 60 + int(x.split(':')[1]))\n",
    "short_spawn_time = pokemon_df[pokemon_df['spawn_seconds'] < 300]\n",
    "\n",
    "# Get all Pokemon who have more than two types of capabilities\n",
    "pokemon_df['num_types'] = pokemon_df['type'].apply(lambda x: len(x))\n",
    "more_types = pokemon_df[pokemon_df['num_types'] > 2]\n",
    "\n",
    "# Plot the insights\n",
    "fig, axes = plt.subplots(1, 2, figsize=(15,10 ))\n",
    "axes = axes.flatten()\n",
    "\n",
    "low_spawn_rate['name'].hist(ax=axes[0])\n",
    "axes[0].set_title('Pokemons with spawn rate less than 5%')\n",
    "\n",
    "less_weak_pokemon['name'].hist(ax=axes[1])\n",
    "axes[1].set_title('Pokemons with less than 4 weaknesses')\n",
    "\n",
    "\n",
    "\n",
    "plt.tight_layout()\n",
    "plt.show()\n"
   ]
  },
  {
   "cell_type": "markdown",
   "id": "1a5078fd",
   "metadata": {},
   "source": [
    "Question 7 -\n",
    "Using the data from Question 4, write code to analyze the data and answer the following questions Note -\n",
    "\n",
    "1. Draw plots to demonstrate the analysis for the following questions for better visualizations\n",
    "\n",
    "2. Write code comments wherever required for code understanding\n",
    "\n",
    "Insights to be drawn -\n",
    "\n",
    "● Get all the Earth meteorites that fell before the year 2000\n",
    "\n",
    "● Get all the earth meteorites co-ordinates who fell before the year 1970\n",
    "\n",
    "● Assuming that the mass of the earth meteorites was in kg, get all those whose mass was more\n",
    "than 10000kg"
   ]
  },
  {
   "cell_type": "code",
   "execution_count": 11,
   "id": "4dc4e606",
   "metadata": {},
   "outputs": [],
   "source": [
    "# Reading the dataset\n",
    "df = pd.read_excel('data_nasa.xlsx')"
   ]
  },
  {
   "cell_type": "code",
   "execution_count": 12,
   "id": "707d7fd7",
   "metadata": {},
   "outputs": [],
   "source": [
    "# Getting the year from YYYY:MM:DD\n",
    "df['year'] = df['year'].apply(lambda x: str(x)[:4])\n",
    "\n",
    "#Converting it into float to do operations\n",
    "df['year'] = df['year'].astype(float)\n",
    "\n",
    "# Getting all asteriods that fell before 2000\n",
    "asteroids_before_2000 = df.name[df['year']<2000]\n",
    "\n",
    "# Getting all the earth meteorites co-ordinates who fell before the year 1970\n",
    "co_ordinates_1970 = df[['year','geolocation']][df['year']<1970]\n",
    "\n",
    "# Getting all those whose mass was more than 10000kg\n",
    "meteroids_kg = df.name[df['mass']>10000]"
   ]
  },
  {
   "cell_type": "raw",
   "id": "533172ea",
   "metadata": {},
   "source": [
    "Question 8 -\n",
    "Using the data from Question 5, write code the analyze the data and answer the following questions Note -\n",
    "1. Draw plots to demonstrate the analysis for the following questions and better visualizations\n",
    "2. Write code comments wherever required for code understanding\n",
    "Insights to be drawn -\n",
    "● Get all the overall ratings for each season and using plots compare the ratings for all the\n",
    "seasons, like season 1 ratings, season 2, and so on.\n",
    "● Get all the episode names, whose average rating is more than 8 for every season\n",
    "● Get all the episode names that aired before May 2019\n",
    "● Get the episode name from each season with the highest and lowest rating\n",
    "● Get the summary for the most popular ( ratings ) episode in every season"
   ]
  },
  {
   "cell_type": "code",
   "execution_count": 13,
   "id": "31d62b39",
   "metadata": {},
   "outputs": [],
   "source": [
    "df = pd.read_excel('episodes.xlsx')"
   ]
  },
  {
   "cell_type": "code",
   "execution_count": 15,
   "id": "44356b87",
   "metadata": {},
   "outputs": [
    {
     "data": {
      "image/png": "[encoded data removed]",
      "text/plain": [
       "<Figure size 640x480 with 1 Axes>"
      ]
     },
     "metadata": {},
     "output_type": "display_data"
    }
   ],
   "source": [
    "import matplotlib.pyplot as plt\n",
    "\n",
    "# Get all the overall ratings for each season\n",
    "season_ratings = df.groupby('season')['rating'].mean()\n",
    "\n",
    "# Plot the ratings for all the seasons\n",
    "season_ratings.plot(kind='bar')\n",
    "plt.title('Average Ratings by Season')\n",
    "plt.xlabel('Season')\n",
    "plt.ylabel('Average Rating')\n",
    "plt.show()\n",
    "\n",
    "# Get all the episode names, whose average rating is more than 8 for every season\n",
    "high_rated_episodes = df[df['rating'] > 8].groupby(['season', 'name'])['rating'].max()\n",
    "\n",
    "\n",
    "# Get all the episode names that aired before May 2019\n",
    "early_episodes = df.name[df['airdate'] < '2019-05-01']\n",
    "\n",
    "\n",
    "# Get the episode name from each season with the highest and lowest rating\n",
    "highest_rated_episodes = df.loc[df.groupby('season')['rating'].idxmax()][['season', 'name', 'rating']]\n",
    "lowest_rated_episodes = df.loc[df.groupby('season')['rating'].idxmin()][['season', 'name', 'rating']]\n",
    "\n",
    "\n",
    "# Get the summary for the most popular (ratings) episode in every season\n",
    "most_popular_episodes = df.loc[df.groupby('season')['rating'].idxmax()][['season', 'name', 'summary']]\n",
    "\n"
   ]
  },
  {
   "cell_type": "raw",
   "id": "e38cbb8b",
   "metadata": {},
   "source": [
    "Question 9 -\n",
    "Write a program to read the data from the following link, perform data analysis and answer the following\n",
    "questions\n",
    "Note -\n",
    "1. Write code comments wherever required for code understanding\n",
    "Link - https://data.wa.gov/api/views/f6w7-q2d2/rows.csv?accessType=DOWNLOAD\n",
    "Insights to be drawn -\n",
    "● Get all the cars and their types that do not qualify for clean alternative fuel vehicle\n",
    "● Get all TESLA cars with the model year, and model type made in Bothell City.\n",
    "● Get all the cars that have an electric range of more than 100, and were made after\n",
    "2015\n",
    "● Draw plots to show the distribution between city and electric vehicle type"
   ]
  },
  {
   "cell_type": "code",
   "execution_count": 17,
   "id": "0772d6f0",
   "metadata": {},
   "outputs": [
    {
     "name": "stderr",
     "output_type": "stream",
     "text": [
      "C:\\Users\\Raja.Balasubramani\\AppData\\Local\\Temp\\ipykernel_14092\\3040920076.py:12: UserWarning: Boolean Series key will be reindexed to match DataFrame index.\n",
      "  tesla_bothell = df[df['Make']=='TESLA'][df['City'] == 'Bothell'][['Model','Model Year','Electric Vehicle Type']]\n",
      "C:\\Users\\Raja.Balasubramani\\AppData\\Local\\Temp\\ipykernel_14092\\3040920076.py:15: UserWarning: Boolean Series key will be reindexed to match DataFrame index.\n",
      "  range_100 = df[df['Electric Range'] >100][df['Model Year']>2015]\n"
     ]
    }
   ],
   "source": [
    "# Reading the data\n",
    "df = pd.read_csv('Electric_Vehicle_Population_Data.csv')\n",
    "\n",
    "# Looking for unique values in the col\n",
    "df['Clean Alternative Fuel Vehicle (CAFV) Eligibility'].unique()\n",
    "\n",
    "\n",
    "# Getting all the cars and their types that do not qualify for clean alternative fuel vehicle\n",
    "not_qualified_cars = df[df['Clean Alternative Fuel Vehicle (CAFV) Eligibility'] == \"Not eligible due to low battery range\"][['Make','Model']]\n",
    "\n",
    "#Getting all TESLA cars with the model year, and model type made in Bothell City.\n",
    "tesla_bothell = df[df['Make']=='TESLA'][df['City'] == 'Bothell'][['Model','Model Year','Electric Vehicle Type']]\n",
    "\n",
    "# Getting all the cars that have an electric range of more than 100, and were made after 2015\n",
    "range_100 = df[df['Electric Range'] >100][df['Model Year']>2015]\n",
    "\n",
    "# Getting all the cars that have an electric range of more than 100, and were made after 2015\n",
    "vechicles_per_city = df['Electric Vehicle Type'].groupby(df['City']).count()\n",
    "\n",
    "# Drawing plots to show the distribution between city and electric vehicle type\n",
    "Vechicle_type_city = df['City'].groupby(df['Electric Vehicle Type']).count()"
   ]
  },
  {
   "cell_type": "code",
   "execution_count": null,
   "id": "501fee16",
   "metadata": {},
   "outputs": [],
   "source": []
  },
  {
   "cell_type": "code",
   "execution_count": 18,
   "id": "cafb461e",
   "metadata": {},
   "outputs": [
    {
     "data": {
      "text/plain": [
       "Text(0.5, 1.0, 'Vechicles present in each city')"
      ]
     },
     "execution_count": 18,
     "metadata": {},
     "output_type": "execute_result"
    },
    {
     "data": {
      "image/png": "[encoded data removed]",
      "text/plain": [
       "<Figure size 640x480 with 1 Axes>"
      ]
     },
     "metadata": {},
     "output_type": "display_data"
    }
   ],
   "source": [
    "vechicles_per_city.plot()\n",
    "plt.title(\"Vechicles present in each city\")"
   ]
  },
  {
   "cell_type": "code",
   "execution_count": 19,
   "id": "227c76b6",
   "metadata": {},
   "outputs": [
    {
     "data": {
      "text/plain": [
       "Text(0.5, 1.0, 'Number of cars based on Vechicle Type')"
      ]
     },
     "execution_count": 19,
     "metadata": {},
     "output_type": "execute_result"
    },
    {
     "data": {
      "image/png": "[encoded data removed]",
      "text/plain": [
       "<Figure size 640x480 with 1 Axes>"
      ]
     },
     "metadata": {},
     "output_type": "display_data"
    }
   ],
   "source": [
    "Vechicle_type_city.plot(kind = 'bar')\n",
    "plt.title('Number of cars based on Vechicle Type')"
   ]
  },
  {
   "cell_type": "raw",
   "id": "070c9780",
   "metadata": {},
   "source": [
    "Question 10 -\n",
    "Write a program to count the number of verbs, nouns, pronouns, and adjectives in a given particular phrase or\n",
    "paragraph, and return their respective count as a dictionary.\n",
    "Note -\n",
    "1. Write code comments wherever required for code\n",
    "2. You have to write at least 2 additional test cases in which your program will run successfully and provide\n",
    "an explanation for the same."
   ]
  },
  {
   "cell_type": "code",
   "execution_count": 20,
   "id": "cc576870",
   "metadata": {},
   "outputs": [
    {
     "name": "stdout",
     "output_type": "stream",
     "text": [
      "{'verbs': 1, 'nouns': 3, 'pronouns': 0, 'adjectives': 2}\n",
      "{'verbs': 1, 'nouns': 2, 'pronouns': 1, 'adjectives': 0}\n"
     ]
    }
   ],
   "source": [
    "import nltk\n",
    "\n",
    "from nltk.tokenize import word_tokenize\n",
    "from nltk.tag import pos_tag\n",
    "\n",
    "def count_pos_tags(text):\n",
    "    # Tokenize the text into words\n",
    "    words = word_tokenize(text)\n",
    "\n",
    "    # Tag the words with their part-of-speech (POS) using NLTK's POS tagger\n",
    "    tagged_words = pos_tag(words)\n",
    "\n",
    "    # Initialize counts for verbs, nouns, pronouns, and adjectives\n",
    "    counts = {\n",
    "        'verbs': 0,\n",
    "        'nouns': 0,\n",
    "        'pronouns': 0,\n",
    "        'adjectives': 0\n",
    "    }\n",
    "\n",
    "    # Iterate through tagged words and update the respective counts\n",
    "    for word, tag in tagged_words:\n",
    "        if tag.startswith('VB'):  # VB for verbs\n",
    "            counts['verbs'] += 1\n",
    "        elif tag.startswith('NN'):  # NN for nouns\n",
    "            counts['nouns'] += 1\n",
    "        elif tag == 'PRP':  # PRP for pronouns\n",
    "            counts['pronouns'] += 1\n",
    "        elif tag.startswith('JJ'):  # JJ for adjectives\n",
    "            counts['adjectives'] += 1\n",
    "\n",
    "    return counts\n",
    "\n",
    "phrase1 = \"The quick brown fox jumps over the lazy dog.\"\n",
    "phrase2 = \"She sells seashells by the seashore.\"\n",
    "\n",
    "counts1 = count_pos_tags(phrase1)\n",
    "counts2 = count_pos_tags(phrase2)\n",
    "\n",
    "print(counts1)\n",
    "print(counts2)"
   ]
  },
  {
   "cell_type": "code",
   "execution_count": null,
   "id": "13ff62ee",
   "metadata": {},
   "outputs": [],
   "source": []
  }
 ],
 "metadata": {
  "kernelspec": {
   "display_name": "Python 3 (ipykernel)",
   "language": "python",
   "name": "python3"
  },
  "language_info": {
   "codemirror_mode": {
    "name": "ipython",
    "version": 3
   },
   "file_extension": ".py",
   "mimetype": "text/x-python",
   "name": "python",
   "nbconvert_exporter": "python",
   "pygments_lexer": "ipython3",
   "version": "3.10.9"
  }
 },
 "nbformat": 4,
 "nbformat_minor": 5
}
